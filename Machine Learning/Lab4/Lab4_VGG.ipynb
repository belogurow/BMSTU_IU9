{
  "nbformat": 4,
  "nbformat_minor": 0,
  "metadata": {
    "colab": {
      "name": "lab4_vgg.ipynb",
      "provenance": [],
      "collapsed_sections": [],
      "toc_visible": true
    },
    "kernelspec": {
      "name": "python3",
      "display_name": "Python 3"
    }
  },
  "cells": [
    {
      "cell_type": "code",
      "metadata": {
        "id": "dBH1RThBvWpW",
        "colab_type": "code",
        "outputId": "8681d068-cdd8-42f5-b9af-9b731af26c5b",
        "colab": {
          "base_uri": "https://localhost:8080/",
          "height": 34
        }
      },
      "source": [
        "%tensorflow_version 2.x\n",
        "import tensorflow as tf\n",
        "from tensorflow import keras\n",
        "\n",
        "import numpy as np\n",
        "import matplotlib.pyplot as plt\n"
      ],
      "execution_count": 0,
      "outputs": [
        {
          "output_type": "stream",
          "text": [
            "TensorFlow 2.x selected.\n"
          ],
          "name": "stdout"
        }
      ]
    },
    {
      "cell_type": "markdown",
      "metadata": {
        "id": "Og2VwLvQ0owV",
        "colab_type": "text"
      },
      "source": [
        "# Загрузка датасета одежды\n"
      ]
    },
    {
      "cell_type": "code",
      "metadata": {
        "id": "qwAPUyj7yN-u",
        "colab_type": "code",
        "colab": {}
      },
      "source": [
        "fashion_mnist = keras.datasets.fashion_mnist\n",
        "\n",
        "(train_images, train_labels), (test_images, test_labels) = fashion_mnist.load_data()\n",
        "\n",
        "class_names = ['T-shirt/top', 'Trouser', 'Pullover', 'Dress', 'Coat',\n",
        "               'Sandal', 'Shirt', 'Sneaker', 'Bag', 'Ankle boot']"
      ],
      "execution_count": 0,
      "outputs": []
    },
    {
      "cell_type": "code",
      "metadata": {
        "id": "9Fq0noeS6DLG",
        "colab_type": "code",
        "outputId": "47621743-76e6-4feb-ab3f-8fcbfc85df65",
        "colab": {
          "base_uri": "https://localhost:8080/",
          "height": 51
        }
      },
      "source": [
        "print(train_images.shape)\n",
        "print(train_labels)"
      ],
      "execution_count": 0,
      "outputs": [
        {
          "output_type": "stream",
          "text": [
            "(60000, 28, 28)\n",
            "[9 0 0 ... 3 0 5]\n"
          ],
          "name": "stdout"
        }
      ]
    },
    {
      "cell_type": "code",
      "metadata": {
        "id": "xzja0fht8tjD",
        "colab_type": "code",
        "outputId": "bdf598ce-792b-49ae-f4c1-c2d7b3591964",
        "colab": {
          "base_uri": "https://localhost:8080/",
          "height": 34
        }
      },
      "source": [
        "train_images = train_images.reshape((train_images.shape[0], 28, 28, 1))\n",
        "test_images = test_images.reshape((test_images.shape[0], 28, 28, 1))\n",
        "\n",
        "print(train_images.shape)"
      ],
      "execution_count": 0,
      "outputs": [
        {
          "output_type": "stream",
          "text": [
            "(60000, 28, 28, 1)\n"
          ],
          "name": "stdout"
        }
      ]
    },
    {
      "cell_type": "markdown",
      "metadata": {
        "id": "-XJa1mid7AFn",
        "colab_type": "text"
      },
      "source": [
        "Так как каждый пиксель представляет собой значение в диапозоне $[0, 255]$, то изменим это значение для соответствия диапозону $[0, 1]$"
      ]
    },
    {
      "cell_type": "code",
      "metadata": {
        "id": "72uHE0gNM7_n",
        "colab_type": "code",
        "colab": {}
      },
      "source": [
        "train_images = train_images / 255.0\n",
        "test_images = test_images / 255.0"
      ],
      "execution_count": 0,
      "outputs": []
    },
    {
      "cell_type": "markdown",
      "metadata": {
        "id": "RLCg8pxW9jMP",
        "colab_type": "text"
      },
      "source": [
        "# Настройка модели - модифицированный VGG\n"
      ]
    },
    {
      "cell_type": "code",
      "metadata": {
        "id": "4ZODZ1e_9aBs",
        "colab_type": "code",
        "colab": {}
      },
      "source": [
        "model = keras.Sequential([\n",
        "    keras.layers.Conv2D(32, (3, 3), padding=\"same\", input_shape=(28, 28, 1), activation='relu'),\n",
        "    keras.layers.BatchNormalization(),\n",
        "    keras.layers.Conv2D(32, (3, 3), padding=\"same\", activation='relu'),\n",
        "    keras.layers.BatchNormalization(),\n",
        "    keras.layers.MaxPooling2D(pool_size=(2, 2)),\n",
        "    keras.layers.Dropout(0.25),\n",
        "\n",
        "    keras.layers.Conv2D(64, (3, 3), padding=\"same\", activation='relu'),\n",
        "    keras.layers.BatchNormalization(),\n",
        "    keras.layers.Conv2D(64, (3, 3), padding=\"same\", activation='relu'),\n",
        "    keras.layers.BatchNormalization(),\n",
        "    keras.layers.MaxPooling2D(pool_size=(2, 2)),\n",
        "    keras.layers.Dropout(0.25),\n",
        "\n",
        "    keras.layers.Flatten(),\n",
        "    keras.layers.Dense(512, activation='relu'),\n",
        "    keras.layers.BatchNormalization(),\n",
        "    keras.layers.Dropout(0.5),\n",
        "\n",
        "    keras.layers.Dense(10, activation='softmax')\n",
        "])\n",
        "\n",
        "model.compile(optimizer='adam',\n",
        "              loss='sparse_categorical_crossentropy',\n",
        "              metrics=['accuracy'])"
      ],
      "execution_count": 0,
      "outputs": []
    },
    {
      "cell_type": "markdown",
      "metadata": {
        "id": "s-5kMuyF-Jbk",
        "colab_type": "text"
      },
      "source": [
        "# Обучение\n"
      ]
    },
    {
      "cell_type": "code",
      "metadata": {
        "id": "Gf75zsn9-Lzn",
        "colab_type": "code",
        "outputId": "d3b69ec6-5a18-4209-8d42-9426f5653cec",
        "colab": {
          "base_uri": "https://localhost:8080/",
          "height": 374
        }
      },
      "source": [
        "epochs_num = 10\n",
        "history = model.fit(train_images, train_labels, epochs=epochs_num, validation_split=0.3)"
      ],
      "execution_count": 0,
      "outputs": [
        {
          "output_type": "stream",
          "text": [
            "Train on 42000 samples, validate on 18000 samples\n",
            "Epoch 1/10\n",
            "42000/42000 [==============================] - 227s 5ms/sample - loss: 0.4946 - accuracy: 0.8308 - val_loss: 0.2822 - val_accuracy: 0.9009\n",
            "Epoch 2/10\n",
            "42000/42000 [==============================] - 228s 5ms/sample - loss: 0.3185 - accuracy: 0.8852 - val_loss: 0.2618 - val_accuracy: 0.9069\n",
            "Epoch 3/10\n",
            "42000/42000 [==============================] - 230s 5ms/sample - loss: 0.2880 - accuracy: 0.8960 - val_loss: 0.2504 - val_accuracy: 0.9104\n",
            "Epoch 4/10\n",
            "42000/42000 [==============================] - 229s 5ms/sample - loss: 0.2623 - accuracy: 0.9055 - val_loss: 0.2794 - val_accuracy: 0.9133\n",
            "Epoch 5/10\n",
            "42000/42000 [==============================] - 228s 5ms/sample - loss: 0.2505 - accuracy: 0.9088 - val_loss: 0.2157 - val_accuracy: 0.9243\n",
            "Epoch 6/10\n",
            "42000/42000 [==============================] - 227s 5ms/sample - loss: 0.2277 - accuracy: 0.9166 - val_loss: 0.2287 - val_accuracy: 0.9240\n",
            "Epoch 7/10\n",
            "42000/42000 [==============================] - 226s 5ms/sample - loss: 0.2291 - accuracy: 0.9165 - val_loss: 0.2156 - val_accuracy: 0.9249\n",
            "Epoch 8/10\n",
            "42000/42000 [==============================] - 228s 5ms/sample - loss: 0.2027 - accuracy: 0.9251 - val_loss: 0.1944 - val_accuracy: 0.9324\n",
            "Epoch 9/10\n",
            "42000/42000 [==============================] - 228s 5ms/sample - loss: 0.1966 - accuracy: 0.9290 - val_loss: 0.2204 - val_accuracy: 0.9233\n",
            "Epoch 10/10\n",
            "42000/42000 [==============================] - 231s 6ms/sample - loss: 0.1885 - accuracy: 0.9315 - val_loss: 0.2000 - val_accuracy: 0.9329\n"
          ],
          "name": "stdout"
        }
      ]
    },
    {
      "cell_type": "markdown",
      "metadata": {
        "id": "lgllNBaC-jTa",
        "colab_type": "text"
      },
      "source": [
        "# Результаты\n"
      ]
    },
    {
      "cell_type": "code",
      "metadata": {
        "id": "P2TvjOU--mf-",
        "colab_type": "code",
        "outputId": "a2cf8d50-ebe3-431e-9d8b-52b3bc946ca4",
        "colab": {
          "base_uri": "https://localhost:8080/",
          "height": 34
        }
      },
      "source": [
        "test_loss, test_acc = model.evaluate(test_images,  test_labels, verbose=2)"
      ],
      "execution_count": 0,
      "outputs": [
        {
          "output_type": "stream",
          "text": [
            "10000/10000 - 10s - loss: 0.2130 - accuracy: 0.9247\n"
          ],
          "name": "stdout"
        }
      ]
    },
    {
      "cell_type": "code",
      "metadata": {
        "id": "UJdfS9Z_A4MC",
        "colab_type": "code",
        "outputId": "2a5e8b84-d606-48a8-85c2-e9984505358c",
        "colab": {
          "base_uri": "https://localhost:8080/",
          "height": 295
        }
      },
      "source": [
        "plt.plot(history.history['accuracy'], label='train')\n",
        "plt.plot(history.history['val_accuracy'], label='test')\n",
        "plt.title('model accuracy')\n",
        "plt.ylabel('accuracy')\n",
        "plt.xlabel('epoch')\n",
        "plt.legend()\n",
        "plt.show()"
      ],
      "execution_count": 0,
      "outputs": [
        {
          "output_type": "display_data",
          "data": {
            "image/png": "[encoded data removed]",
            "text/plain": [
              "<Figure size 432x288 with 1 Axes>"
            ]
          },
          "metadata": {
            "tags": []
          }
        }
      ]
    }
  ]
}