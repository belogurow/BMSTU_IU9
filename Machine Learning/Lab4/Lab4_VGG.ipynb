{
  "nbformat": 4,
  "nbformat_minor": 0,
  "metadata": {
    "colab": {
      "name": "Machine learning Lab4.ipynb",
      "provenance": [],
      "toc_visible": true
    },
    "kernelspec": {
      "name": "python3",
      "display_name": "Python 3"
    }
  },
  "cells": [
    {
      "cell_type": "code",
      "metadata": {
        "id": "dBH1RThBvWpW",
        "colab_type": "code",
        "outputId": "120fa409-f6b5-4624-f659-c0a83b93fd1c",
        "colab": {
          "base_uri": "https://localhost:8080/",
          "height": 34
        }
      },
      "source": [
        "%tensorflow_version 2.x\n",
        "import tensorflow as tf\n",
        "from tensorflow import keras\n",
        "\n",
        "import numpy as np\n",
        "import matplotlib.pyplot as plt\n"
      ],
      "execution_count": 7,
      "outputs": [
        {
          "output_type": "stream",
          "text": [
            "TensorFlow 2.x selected.\n"
          ],
          "name": "stdout"
        }
      ]
    },
    {
      "cell_type": "markdown",
      "metadata": {
        "id": "Og2VwLvQ0owV",
        "colab_type": "text"
      },
      "source": [
        "# Загрузка датасета одежды"
      ]
    },
    {
      "cell_type": "code",
      "metadata": {
        "id": "qwAPUyj7yN-u",
        "colab_type": "code",
        "colab": {}
      },
      "source": [
        "fashion_mnist = keras.datasets.fashion_mnist\n",
        "\n",
        "(train_images, train_labels), (test_images, test_labels) = fashion_mnist.load_data()\n",
        "\n",
        "class_names = ['T-shirt/top', 'Trouser', 'Pullover', 'Dress', 'Coat',\n",
        "               'Sandal', 'Shirt', 'Sneaker', 'Bag', 'Ankle boot']"
      ],
      "execution_count": 0,
      "outputs": []
    },
    {
      "cell_type": "code",
      "metadata": {
        "id": "9Fq0noeS6DLG",
        "colab_type": "code",
        "outputId": "0ea60450-ad88-45fd-e734-e49e6480d12b",
        "colab": {
          "base_uri": "https://localhost:8080/",
          "height": 51
        }
      },
      "source": [
        "print(train_images.shape)\n",
        "print(train_labels)"
      ],
      "execution_count": 22,
      "outputs": [
        {
          "output_type": "stream",
          "text": [
            "(60000, 28, 28)\n",
            "[9 0 0 ... 3 0 5]\n"
          ],
          "name": "stdout"
        }
      ]
    },
    {
      "cell_type": "code",
      "metadata": {
        "id": "xzja0fht8tjD",
        "colab_type": "code",
        "colab": {
          "base_uri": "https://localhost:8080/",
          "height": 34
        },
        "outputId": "2a33af95-db5d-403e-beb7-19f5806d9e65"
      },
      "source": [
        "train_images = train_images.reshape((train_images.shape[0], 28, 28, 1))\n",
        "test_images = test_images.reshape((test_images.shape[0], 28, 28, 1))\n",
        "\n",
        "print(train_images.shape)"
      ],
      "execution_count": 23,
      "outputs": [
        {
          "output_type": "stream",
          "text": [
            "(60000, 28, 28, 1)\n"
          ],
          "name": "stdout"
        }
      ]
    },
    {
      "cell_type": "markdown",
      "metadata": {
        "id": "-XJa1mid7AFn",
        "colab_type": "text"
      },
      "source": [
        "Так как каждый пиксель представляет собой значение в диапозоне $[0, 255]$, то изменим это значение для соответствия диапозону $[0, 1]$"
      ]
    },
    {
      "cell_type": "code",
      "metadata": {
        "id": "72uHE0gNM7_n",
        "colab_type": "code",
        "colab": {}
      },
      "source": [
        "train_images = train_images / 255.0\n",
        "test_images = test_images / 255.0"
      ],
      "execution_count": 0,
      "outputs": []
    },
    {
      "cell_type": "markdown",
      "metadata": {
        "id": "RLCg8pxW9jMP",
        "colab_type": "text"
      },
      "source": [
        "# Настройка модели - модифицированный VGG"
      ]
    },
    {
      "cell_type": "code",
      "metadata": {
        "id": "4ZODZ1e_9aBs",
        "colab_type": "code",
        "colab": {}
      },
      "source": [
        "model = keras.Sequential([\n",
        "    keras.layers.Conv2D(32, (3, 3), padding=\"same\", input_shape=(28, 28, 1), activation='relu'),\n",
        "    keras.layers.BatchNormalization(),\n",
        "    keras.layers.Conv2D(32, (3, 3), padding=\"same\", activation='relu'),\n",
        "    keras.layers.BatchNormalization(),\n",
        "    keras.layers.MaxPooling2D(pool_size=(2, 2)),\n",
        "    keras.layers.Dropout(0.25),\n",
        "\n",
        "    keras.layers.Conv2D(64, (3, 3), padding=\"same\", activation='relu'),\n",
        "    keras.layers.BatchNormalization(),\n",
        "    keras.layers.Conv2D(64, (3, 3), padding=\"same\", activation='relu'),\n",
        "    keras.layers.BatchNormalization(),\n",
        "    keras.layers.MaxPooling2D(pool_size=(2, 2)),\n",
        "    keras.layers.Dropout(0.25),\n",
        "\n",
        "    keras.layers.Flatten(),\n",
        "    keras.layers.Dense(512, activation='relu'),\n",
        "    keras.layers.BatchNormalization(),\n",
        "    keras.layers.Dropout(0.5),\n",
        "\n",
        "    keras.layers.Dense(10, activation='softmax')\n",
        "])\n",
        "\n",
        "model.compile(optimizer='adam',\n",
        "              loss='sparse_categorical_crossentropy',\n",
        "              metrics=['accuracy'])"
      ],
      "execution_count": 0,
      "outputs": []
    },
    {
      "cell_type": "markdown",
      "metadata": {
        "id": "s-5kMuyF-Jbk",
        "colab_type": "text"
      },
      "source": [
        "# Обучение"
      ]
    },
    {
      "cell_type": "code",
      "metadata": {
        "id": "Gf75zsn9-Lzn",
        "colab_type": "code",
        "outputId": "6b8286f3-a7a8-45cc-f705-0adc95fddb06",
        "colab": {
          "base_uri": "https://localhost:8080/",
          "height": 391
        }
      },
      "source": [
        "epochs_num = 10\n",
        "model.fit(train_images, train_labels, epochs=epochs_num)"
      ],
      "execution_count": 27,
      "outputs": [
        {
          "output_type": "stream",
          "text": [
            "Train on 60000 samples\n",
            "Epoch 1/10\n",
            "60000/60000 [==============================] - 304s 5ms/sample - loss: 0.4507 - accuracy: 0.8432\n",
            "Epoch 2/10\n",
            "60000/60000 [==============================] - 303s 5ms/sample - loss: 0.2991 - accuracy: 0.8925\n",
            "Epoch 3/10\n",
            "60000/60000 [==============================] - 301s 5ms/sample - loss: 0.2722 - accuracy: 0.9025\n",
            "Epoch 4/10\n",
            "60000/60000 [==============================] - 303s 5ms/sample - loss: 0.2477 - accuracy: 0.9110\n",
            "Epoch 5/10\n",
            "60000/60000 [==============================] - 304s 5ms/sample - loss: 0.2336 - accuracy: 0.9165\n",
            "Epoch 6/10\n",
            "60000/60000 [==============================] - 304s 5ms/sample - loss: 0.2154 - accuracy: 0.9223\n",
            "Epoch 7/10\n",
            "60000/60000 [==============================] - 304s 5ms/sample - loss: 0.2018 - accuracy: 0.9270\n",
            "Epoch 8/10\n",
            "60000/60000 [==============================] - 303s 5ms/sample - loss: 0.1915 - accuracy: 0.9297\n",
            "Epoch 9/10\n",
            "60000/60000 [==============================] - 304s 5ms/sample - loss: 0.1809 - accuracy: 0.9341\n",
            "Epoch 10/10\n",
            "60000/60000 [==============================] - 304s 5ms/sample - loss: 0.1694 - accuracy: 0.9387\n"
          ],
          "name": "stdout"
        },
        {
          "output_type": "execute_result",
          "data": {
            "text/plain": [
              "<tensorflow.python.keras.callbacks.History at 0x7f0ba0076f60>"
            ]
          },
          "metadata": {
            "tags": []
          },
          "execution_count": 27
        }
      ]
    },
    {
      "cell_type": "markdown",
      "metadata": {
        "id": "lgllNBaC-jTa",
        "colab_type": "text"
      },
      "source": [
        "# Проверка на тестовой выборке"
      ]
    },
    {
      "cell_type": "code",
      "metadata": {
        "id": "P2TvjOU--mf-",
        "colab_type": "code",
        "outputId": "cca385a4-ba53-4c37-c629-96cda2b851ef",
        "colab": {
          "base_uri": "https://localhost:8080/",
          "height": 34
        }
      },
      "source": [
        "test_loss, test_acc = model.evaluate(test_images,  test_labels, verbose=2)"
      ],
      "execution_count": 29,
      "outputs": [
        {
          "output_type": "stream",
          "text": [
            "10000/10000 - 11s - loss: 0.1972 - accuracy: 0.9322\n"
          ],
          "name": "stdout"
        }
      ]
    }
  ]
}