{
  "nbformat": 4,
  "nbformat_minor": 0,
  "metadata": {
    "colab": {
      "name": "Machine learning lab6.ipynb",
      "provenance": [],
      "collapsed_sections": []
    },
    "kernelspec": {
      "name": "python3",
      "display_name": "Python 3"
    }
  },
  "cells": [
    {
      "cell_type": "code",
      "metadata": {
        "id": "wC45W7p9P7wv",
        "colab_type": "code",
        "colab": {}
      },
      "source": [
        "%tensorflow_version 2.x\n",
        "import tensorflow as tf\n",
        "from tensorflow import keras\n",
        "from keras import optimizers\n",
        "\n",
        "import numpy as np\n",
        "import matplotlib.pyplot as plt\n",
        "import pandas as pd"
      ],
      "execution_count": 0,
      "outputs": []
    },
    {
      "cell_type": "code",
      "metadata": {
        "id": "vfgzdAAfQiz-",
        "colab_type": "code",
        "colab": {
          "base_uri": "https://localhost:8080/",
          "height": 34
        },
        "outputId": "2892f0c7-db78-4584-fa1d-d8cdbbeb6d93"
      },
      "source": [
        "from google.colab import drive\n",
        "drive.mount('/content/drive')"
      ],
      "execution_count": 5,
      "outputs": [
        {
          "output_type": "stream",
          "text": [
            "Drive already mounted at /content/drive; to attempt to forcibly remount, call drive.mount(\"/content/drive\", force_remount=True).\n"
          ],
          "name": "stdout"
        }
      ]
    },
    {
      "cell_type": "markdown",
      "metadata": {
        "id": "0VXqte-Uk4Tg",
        "colab_type": "text"
      },
      "source": [
        "#  Загрузка исходного датасета"
      ]
    },
    {
      "cell_type": "code",
      "metadata": {
        "id": "aKFYMviCSvSW",
        "colab_type": "code",
        "colab": {}
      },
      "source": [
        "TEST_FILENAME = \"/content/drive/My Drive/Colab Notebooks/face keypoints/test.csv\"\n",
        "TRAINING_FILENAME = \"/content/drive/My Drive/Colab Notebooks/face keypoints/training.csv\""
      ],
      "execution_count": 0,
      "outputs": []
    },
    {
      "cell_type": "code",
      "metadata": {
        "id": "Mv6XFvWzfyql",
        "colab_type": "code",
        "colab": {}
      },
      "source": [
        "def load_train_data(filename):\n",
        "    data = pd.read_csv(filename).dropna()\n",
        "\n",
        "    images = list(map(lambda x: x.split(), data['Image']))\n",
        "    X_train = np.array(images, dtype='float')\n",
        "\n",
        "    keypoints = data[data.columns[:-1]].values\n",
        "    Y_train = np.array(keypoints, dtype='float')\n",
        "\n",
        "    return X_train, Y_train"
      ],
      "execution_count": 0,
      "outputs": []
    },
    {
      "cell_type": "code",
      "metadata": {
        "id": "ycNVe7awfzwn",
        "colab_type": "code",
        "colab": {}
      },
      "source": [
        "def load_test_data(filename):\n",
        "    data = pd.read_csv(filename)\n",
        "\n",
        "    images = list(map(lambda x: x.split(), data['Image']))\n",
        "    X_train = np.array(images, dtype='float')\n",
        "\n",
        "    return X_train"
      ],
      "execution_count": 0,
      "outputs": []
    },
    {
      "cell_type": "code",
      "metadata": {
        "id": "WsGn2cRXf1qq",
        "colab_type": "code",
        "colab": {}
      },
      "source": [
        "X_train, Y_train = load_train_data(TRAINING_FILENAME)\n",
        "X_test = load_test_data(TEST_FILENAME)"
      ],
      "execution_count": 0,
      "outputs": []
    },
    {
      "cell_type": "markdown",
      "metadata": {
        "id": "ICx8zL9llCBp",
        "colab_type": "text"
      },
      "source": [
        "# Пример изображения "
      ]
    },
    {
      "cell_type": "code",
      "metadata": {
        "id": "_D4dNkCIlQ8d",
        "colab_type": "code",
        "colab": {}
      },
      "source": [
        "def plot_image(image, keypoints):\n",
        "    image = image.copy().reshape(96, 96)\n",
        "\n",
        "    for i in range(0, len(keypoints) - 1, 2):\n",
        "        image[int(keypoints[i+1]), int(keypoints[i])] = 255\n",
        "\n",
        "    plt.imshow(image, cmap='gray')\n",
        "    plt.show()"
      ],
      "execution_count": 0,
      "outputs": []
    },
    {
      "cell_type": "code",
      "metadata": {
        "id": "DXHaT_Zl-CEa",
        "colab_type": "code",
        "colab": {
          "base_uri": "https://localhost:8080/",
          "height": 268
        },
        "outputId": "3f12fa15-34dc-4479-ed9e-e1c4cf114be4"
      },
      "source": [
        "plot_image(X_train[0], Y_train[0])"
      ],
      "execution_count": 102,
      "outputs": [
        {
          "output_type": "display_data",
          "data": {
            "image/png": "[encoded data removed]",
            "text/plain": [
              "<Figure size 432x288 with 1 Axes>"
            ]
          },
          "metadata": {
            "tags": []
          }
        }
      ]
    },
    {
      "cell_type": "markdown",
      "metadata": {
        "id": "cWJYd-Ujqn9u",
        "colab_type": "text"
      },
      "source": [
        "# Нейронная сеть"
      ]
    },
    {
      "cell_type": "code",
      "metadata": {
        "id": "tz0WpPmZqsoW",
        "colab_type": "code",
        "colab": {}
      },
      "source": [
        "model = keras.Sequential([\n",
        "    keras.layers.Flatten(input_shape=(96*96, )),\n",
        "    keras.layers.Dense(1024, activation=\"relu\"),\n",
        "    keras.layers.Dropout(0.1),\n",
        "    keras.layers.Dense(512, activation=\"relu\"),\n",
        "    keras.layers.Dense(64, activation=\"relu\"),\n",
        "    keras.layers.Dense(30)\n",
        "])\n",
        "\n",
        "model.compile(optimizer='adam',\n",
        "              loss='mse',\n",
        "              metrics=['accuracy'])"
      ],
      "execution_count": 0,
      "outputs": []
    },
    {
      "cell_type": "code",
      "metadata": {
        "id": "GXFtCLfovUdH",
        "colab_type": "code",
        "colab": {
          "base_uri": "https://localhost:8080/",
          "height": 51
        },
        "outputId": "9d7f5c5f-a5c9-4845-dd73-dc319d7eb762"
      },
      "source": [
        "print(X_train.shape)\n",
        "print(Y_train.shape)"
      ],
      "execution_count": 125,
      "outputs": [
        {
          "output_type": "stream",
          "text": [
            "(2140, 9216)\n",
            "(2140, 30)\n"
          ],
          "name": "stdout"
        }
      ]
    },
    {
      "cell_type": "code",
      "metadata": {
        "id": "nZnSrSccsbh0",
        "colab_type": "code",
        "colab": {
          "base_uri": "https://localhost:8080/",
          "height": 1000
        },
        "outputId": "4d52d47b-19c5-4597-c13f-4a47f319a2ba"
      },
      "source": [
        "epochs_num = 30\n",
        "model.fit(X_train/255., Y_train, epochs=epochs_num, validation_split=0.2)"
      ],
      "execution_count": 129,
      "outputs": [
        {
          "output_type": "stream",
          "text": [
            "Train on 1712 samples, validate on 428 samples\n",
            "Epoch 1/30\n",
            "1712/1712 [==============================] - 4s 2ms/sample - loss: 464.8816 - accuracy: 0.4363 - val_loss: 150.4912 - val_accuracy: 0.4322\n",
            "Epoch 2/30\n",
            "1712/1712 [==============================] - 4s 2ms/sample - loss: 137.4208 - accuracy: 0.6945 - val_loss: 207.3242 - val_accuracy: 0.4322\n",
            "Epoch 3/30\n",
            "1712/1712 [==============================] - 4s 2ms/sample - loss: 114.7583 - accuracy: 0.7389 - val_loss: 155.0537 - val_accuracy: 0.4322\n",
            "Epoch 4/30\n",
            "1712/1712 [==============================] - 4s 2ms/sample - loss: 111.2879 - accuracy: 0.7652 - val_loss: 145.4298 - val_accuracy: 0.4322\n",
            "Epoch 5/30\n",
            "1712/1712 [==============================] - 4s 2ms/sample - loss: 87.0513 - accuracy: 0.7664 - val_loss: 207.1517 - val_accuracy: 0.4322\n",
            "Epoch 6/30\n",
            "1712/1712 [==============================] - 4s 2ms/sample - loss: 86.6798 - accuracy: 0.7629 - val_loss: 141.7825 - val_accuracy: 0.4322\n",
            "Epoch 7/30\n",
            "1712/1712 [==============================] - 4s 2ms/sample - loss: 85.0942 - accuracy: 0.7704 - val_loss: 219.5190 - val_accuracy: 0.4322\n",
            "Epoch 8/30\n",
            "1712/1712 [==============================] - 4s 2ms/sample - loss: 72.0909 - accuracy: 0.7704 - val_loss: 145.7280 - val_accuracy: 0.4322\n",
            "Epoch 9/30\n",
            "1712/1712 [==============================] - 4s 2ms/sample - loss: 68.2069 - accuracy: 0.7710 - val_loss: 143.6416 - val_accuracy: 0.4322\n",
            "Epoch 10/30\n",
            "1712/1712 [==============================] - 4s 2ms/sample - loss: 57.9136 - accuracy: 0.7745 - val_loss: 175.6686 - val_accuracy: 0.4322\n",
            "Epoch 11/30\n",
            "1712/1712 [==============================] - 4s 2ms/sample - loss: 54.6709 - accuracy: 0.7728 - val_loss: 143.5095 - val_accuracy: 0.4322\n",
            "Epoch 12/30\n",
            "1712/1712 [==============================] - 4s 2ms/sample - loss: 60.8909 - accuracy: 0.7734 - val_loss: 141.9751 - val_accuracy: 0.4322\n",
            "Epoch 13/30\n",
            "1712/1712 [==============================] - 4s 2ms/sample - loss: 61.0324 - accuracy: 0.7728 - val_loss: 140.8297 - val_accuracy: 0.4322\n",
            "Epoch 14/30\n",
            "1712/1712 [==============================] - 4s 2ms/sample - loss: 49.5254 - accuracy: 0.7722 - val_loss: 147.2945 - val_accuracy: 0.4322\n",
            "Epoch 15/30\n",
            "1712/1712 [==============================] - 4s 2ms/sample - loss: 54.6076 - accuracy: 0.7728 - val_loss: 149.2801 - val_accuracy: 0.4322\n",
            "Epoch 16/30\n",
            "1712/1712 [==============================] - 4s 2ms/sample - loss: 44.1940 - accuracy: 0.7739 - val_loss: 141.4356 - val_accuracy: 0.4322\n",
            "Epoch 17/30\n",
            "1712/1712 [==============================] - 4s 2ms/sample - loss: 44.0206 - accuracy: 0.7734 - val_loss: 144.4487 - val_accuracy: 0.4322\n",
            "Epoch 18/30\n",
            "1712/1712 [==============================] - 4s 2ms/sample - loss: 44.4445 - accuracy: 0.7734 - val_loss: 140.9965 - val_accuracy: 0.4322\n",
            "Epoch 19/30\n",
            "1712/1712 [==============================] - 4s 2ms/sample - loss: 55.9412 - accuracy: 0.7722 - val_loss: 137.8034 - val_accuracy: 0.4322\n",
            "Epoch 20/30\n",
            "1712/1712 [==============================] - 4s 2ms/sample - loss: 41.7192 - accuracy: 0.7728 - val_loss: 158.1541 - val_accuracy: 0.4322\n",
            "Epoch 21/30\n",
            "1712/1712 [==============================] - 4s 2ms/sample - loss: 37.3011 - accuracy: 0.7745 - val_loss: 141.3824 - val_accuracy: 0.4346\n",
            "Epoch 22/30\n",
            "1712/1712 [==============================] - 4s 2ms/sample - loss: 35.4296 - accuracy: 0.7775 - val_loss: 158.9517 - val_accuracy: 0.4346\n",
            "Epoch 23/30\n",
            "1712/1712 [==============================] - 4s 2ms/sample - loss: 37.3924 - accuracy: 0.7739 - val_loss: 131.7133 - val_accuracy: 0.4322\n",
            "Epoch 24/30\n",
            "1712/1712 [==============================] - 4s 2ms/sample - loss: 47.6375 - accuracy: 0.7739 - val_loss: 129.7728 - val_accuracy: 0.4322\n",
            "Epoch 25/30\n",
            "1712/1712 [==============================] - 4s 2ms/sample - loss: 39.8068 - accuracy: 0.7728 - val_loss: 140.8005 - val_accuracy: 0.4322\n",
            "Epoch 26/30\n",
            "1712/1712 [==============================] - 4s 2ms/sample - loss: 34.0525 - accuracy: 0.7739 - val_loss: 131.6738 - val_accuracy: 0.4322\n",
            "Epoch 27/30\n",
            "1712/1712 [==============================] - 4s 2ms/sample - loss: 31.2957 - accuracy: 0.7751 - val_loss: 132.6240 - val_accuracy: 0.4322\n",
            "Epoch 28/30\n",
            "1712/1712 [==============================] - 4s 2ms/sample - loss: 35.2839 - accuracy: 0.7745 - val_loss: 131.6847 - val_accuracy: 0.4322\n",
            "Epoch 29/30\n",
            "1712/1712 [==============================] - 4s 2ms/sample - loss: 35.3219 - accuracy: 0.7704 - val_loss: 125.6217 - val_accuracy: 0.4346\n",
            "Epoch 30/30\n",
            "1712/1712 [==============================] - 4s 2ms/sample - loss: 29.7509 - accuracy: 0.7722 - val_loss: 130.2852 - val_accuracy: 0.4369\n"
          ],
          "name": "stdout"
        },
        {
          "output_type": "execute_result",
          "data": {
            "text/plain": [
              "<tensorflow.python.keras.callbacks.History at 0x7f26687efef0>"
            ]
          },
          "metadata": {
            "tags": []
          },
          "execution_count": 129
        }
      ]
    },
    {
      "cell_type": "markdown",
      "metadata": {
        "id": "4l_D44Jhte7t",
        "colab_type": "text"
      },
      "source": [
        "# Результат"
      ]
    },
    {
      "cell_type": "code",
      "metadata": {
        "id": "S1zPvKEsCY8J",
        "colab_type": "code",
        "colab": {}
      },
      "source": [
        "Y_test = model.predict(X_test)"
      ],
      "execution_count": 0,
      "outputs": []
    },
    {
      "cell_type": "code",
      "metadata": {
        "id": "29iTWNrxtd6f",
        "colab_type": "code",
        "colab": {
          "base_uri": "https://localhost:8080/",
          "height": 268
        },
        "outputId": "795ffd14-ab9e-455b-a6d5-634727c84635"
      },
      "source": [
        "plot_image(X_test[3], Y_test[3]/255.)"
      ],
      "execution_count": 131,
      "outputs": [
        {
          "output_type": "display_data",
          "data": {
            "image/png": "[encoded data removed]",
            "text/plain": [
              "<Figure size 432x288 with 1 Axes>"
            ]
          },
          "metadata": {
            "tags": []
          }
        }
      ]
    }
  ]
}