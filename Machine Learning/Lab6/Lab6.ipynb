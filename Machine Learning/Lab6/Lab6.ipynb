{
  "nbformat": 4,
  "nbformat_minor": 0,
  "metadata": {
    "colab": {
      "name": "Machine learning lab6.ipynb",
      "provenance": [],
      "collapsed_sections": []
    },
    "kernelspec": {
      "name": "python3",
      "display_name": "Python 3"
    }
  },
  "cells": [
    {
      "cell_type": "code",
      "metadata": {
        "id": "wC45W7p9P7wv",
        "colab_type": "code",
        "outputId": "b20db912-742c-4372-84b2-c35add8ea30e",
        "colab": {
          "base_uri": "https://localhost:8080/",
          "height": 51
        }
      },
      "source": [
        "%tensorflow_version 2.x\n",
        "import tensorflow as tf\n",
        "from tensorflow import keras\n",
        "from keras import optimizers\n",
        "from sklearn.utils import shuffle\n",
        "\n",
        "\n",
        "import numpy as np\n",
        "import matplotlib.pyplot as plt\n",
        "import pandas as pd"
      ],
      "execution_count": 0,
      "outputs": [
        {
          "output_type": "stream",
          "text": [
            "TensorFlow 2.x selected.\n"
          ],
          "name": "stdout"
        },
        {
          "output_type": "stream",
          "text": [
            "Using TensorFlow backend.\n"
          ],
          "name": "stderr"
        }
      ]
    },
    {
      "cell_type": "code",
      "metadata": {
        "id": "vfgzdAAfQiz-",
        "colab_type": "code",
        "outputId": "39d5799c-b5a1-452f-8a26-1b292a09945a",
        "colab": {
          "base_uri": "https://localhost:8080/",
          "height": 34
        }
      },
      "source": [
        "from google.colab import drive\n",
        "drive.mount('/content/drive')"
      ],
      "execution_count": 0,
      "outputs": [
        {
          "output_type": "stream",
          "text": [
            "Drive already mounted at /content/drive; to attempt to forcibly remount, call drive.mount(\"/content/drive\", force_remount=True).\n"
          ],
          "name": "stdout"
        }
      ]
    },
    {
      "cell_type": "markdown",
      "metadata": {
        "id": "0VXqte-Uk4Tg",
        "colab_type": "text"
      },
      "source": [
        "#  Загрузка исходного датасета"
      ]
    },
    {
      "cell_type": "code",
      "metadata": {
        "id": "aKFYMviCSvSW",
        "colab_type": "code",
        "colab": {}
      },
      "source": [
        "LABELS_FILENAME = \"/content/drive/My Drive/Colab Notebooks/road/test.csv\"\n",
        "TRAINING_FILENAME = \"/content/drive/My Drive/Colab Notebooks/road/training.csv\""
      ],
      "execution_count": 0,
      "outputs": []
    },
    {
      "cell_type": "code",
      "metadata": {
        "id": "Mv6XFvWzfyql",
        "colab_type": "code",
        "colab": {}
      },
      "source": [
        "def load_train_data(filename):\n",
        "    data = pd.read_csv(filename).dropna()\n",
        "\n",
        "    images = list(map(lambda x: x.split(), data['Image']))\n",
        "    X_train = np.array(images, dtype='float')\n",
        "\n",
        "    keypoints = data[data.columns[:-1]].values\n",
        "    Y_train = np.array(keypoints, dtype='float')\n",
        "\n",
        "    X_train, Y_train = shuffle(X_train, Y_train)\n",
        "    return X_train, Y_train"
      ],
      "execution_count": 0,
      "outputs": []
    },
    {
      "cell_type": "code",
      "metadata": {
        "id": "ycNVe7awfzwn",
        "colab_type": "code",
        "colab": {}
      },
      "source": [
        "def load_test_data(filename):\n",
        "    data = pd.read_csv(filename)\n",
        "\n",
        "    images = list(map(lambda x: x.split(), data['Image']))\n",
        "    X_train = np.array(images, dtype='float')\n",
        "\n",
        "    return X_train"
      ],
      "execution_count": 0,
      "outputs": []
    },
    {
      "cell_type": "code",
      "metadata": {
        "id": "WsGn2cRXf1qq",
        "colab_type": "code",
        "colab": {}
      },
      "source": [
        "X_train, Y_train = load_train_data(TRAINING_FILENAME)\n",
        "X_test = load_test_data(TEST_FILENAME)"
      ],
      "execution_count": 0,
      "outputs": []
    },
    {
      "cell_type": "markdown",
      "metadata": {
        "id": "ICx8zL9llCBp",
        "colab_type": "text"
      },
      "source": [
        "# Пример изображения "
      ]
    },
    {
      "cell_type": "code",
      "metadata": {
        "id": "_D4dNkCIlQ8d",
        "colab_type": "code",
        "colab": {}
      },
      "source": [
        "def plot_image(image, keypoints):\n",
        "    image = image.copy().reshape(96, 96)\n",
        "\n",
        "    for i in range(0, len(keypoints) - 1, 2):\n",
        "        image[int(keypoints[i+1]), int(keypoints[i])] = 255\n",
        "\n",
        "    plt.imshow(image, cmap='gray')\n",
        "    plt.show()"
      ],
      "execution_count": 0,
      "outputs": []
    },
    {
      "cell_type": "code",
      "metadata": {
        "id": "DXHaT_Zl-CEa",
        "colab_type": "code",
        "outputId": "12011e8f-9b16-4b63-c5e6-5ebc1ca9aeae",
        "colab": {
          "base_uri": "https://localhost:8080/",
          "height": 268
        }
      },
      "source": [
        "plot_image(X_train[0], Y_train[0])"
      ],
      "execution_count": 0,
      "outputs": [
        {
          "output_type": "display_data",
          "data": {
            "image/png": "[encoded data removed]",
            "text/plain": [
              "<Figure size 432x288 with 1 Axes>"
            ]
          },
          "metadata": {
            "tags": []
          }
        }
      ]
    },
    {
      "cell_type": "markdown",
      "metadata": {
        "id": "cWJYd-Ujqn9u",
        "colab_type": "text"
      },
      "source": [
        "# Нейронная сеть"
      ]
    },
    {
      "cell_type": "code",
      "metadata": {
        "id": "tz0WpPmZqsoW",
        "colab_type": "code",
        "colab": {}
      },
      "source": [
        "model = keras.Sequential([\n",
        "    keras.layers.Flatten(input_shape=(96,96, 1)),\n",
        "    keras.layers.Dense(128, activation=\"relu\"),\n",
        "    # keras.layers.Dropout(0.1),\n",
        "    keras.layers.Dense(64, activation=\"relu\"),\n",
        "    keras.layers.Dense(30)\n",
        "])\n",
        "\n",
        "model.compile(optimizer='adam', \n",
        "              loss='mse',\n",
        "              metrics=['mae', 'accuracy'])"
      ],
      "execution_count": 0,
      "outputs": []
    },
    {
      "cell_type": "code",
      "metadata": {
        "id": "GXFtCLfovUdH",
        "colab_type": "code",
        "outputId": "fda3a425-d922-4107-deb9-6e8bef242977",
        "colab": {
          "base_uri": "https://localhost:8080/",
          "height": 51
        }
      },
      "source": [
        "X_train = X_train.reshape(-1, 96, 96, 1)\n",
        "print(X_train.shape)\n",
        "print(Y_train.shape)"
      ],
      "execution_count": 0,
      "outputs": [
        {
          "output_type": "stream",
          "text": [
            "(2140, 96, 96, 1)\n",
            "(2140, 30)\n"
          ],
          "name": "stdout"
        }
      ]
    },
    {
      "cell_type": "code",
      "metadata": {
        "id": "nZnSrSccsbh0",
        "colab_type": "code",
        "outputId": "6bdbbcbc-2a43-44bf-97db-5f5e6829d53c",
        "colab": {
          "base_uri": "https://localhost:8080/",
          "height": 1000
        }
      },
      "source": [
        "epochs_num = 200\n",
        "history = model.fit(X_train, Y_train, epochs=epochs_num, validation_split=0.2)"
      ],
      "execution_count": 0,
      "outputs": [
        {
          "output_type": "stream",
          "text": [
            "Train on 1712 samples, validate on 428 samples\n",
            "Epoch 1/200\n",
            "1712/1712 [==============================] - 1s 618us/sample - loss: 17580.1895 - mae: 74.0825 - accuracy: 0.0777 - val_loss: 958.3510 - val_mae: 24.2582 - val_accuracy: 0.5678\n",
            "Epoch 2/200\n",
            "1712/1712 [==============================] - 1s 381us/sample - loss: 669.7260 - mae: 20.4050 - accuracy: 0.4416 - val_loss: 430.9793 - val_mae: 16.2851 - val_accuracy: 0.5374\n",
            "Epoch 3/200\n",
            "1712/1712 [==============================] - 1s 395us/sample - loss: 316.0260 - mae: 14.0656 - accuracy: 0.5532 - val_loss: 230.4235 - val_mae: 11.9161 - val_accuracy: 0.5935\n",
            "Epoch 4/200\n",
            "1712/1712 [==============================] - 1s 398us/sample - loss: 200.0921 - mae: 11.0882 - accuracy: 0.5491 - val_loss: 180.0234 - val_mae: 10.5701 - val_accuracy: 0.4953\n",
            "Epoch 5/200\n",
            "1712/1712 [==============================] - 1s 387us/sample - loss: 163.6727 - mae: 9.9845 - accuracy: 0.4679 - val_loss: 176.6806 - val_mae: 10.4273 - val_accuracy: 0.3388\n",
            "Epoch 6/200\n",
            "1712/1712 [==============================] - 1s 386us/sample - loss: 162.3969 - mae: 9.9037 - accuracy: 0.3978 - val_loss: 173.7178 - val_mae: 10.1910 - val_accuracy: 0.5794\n",
            "Epoch 7/200\n",
            "1712/1712 [==============================] - 1s 398us/sample - loss: 155.4280 - mae: 9.7082 - accuracy: 0.3995 - val_loss: 149.2720 - val_mae: 9.4781 - val_accuracy: 0.2710\n",
            "Epoch 8/200\n",
            "1712/1712 [==============================] - 1s 382us/sample - loss: 143.5096 - mae: 9.3267 - accuracy: 0.3703 - val_loss: 169.4863 - val_mae: 10.1137 - val_accuracy: 0.6449\n",
            "Epoch 9/200\n",
            "1712/1712 [==============================] - 1s 381us/sample - loss: 148.9254 - mae: 9.4908 - accuracy: 0.3855 - val_loss: 150.9742 - val_mae: 9.5171 - val_accuracy: 0.5093\n",
            "Epoch 10/200\n",
            "1712/1712 [==============================] - 1s 370us/sample - loss: 141.3217 - mae: 9.2465 - accuracy: 0.3750 - val_loss: 167.9468 - val_mae: 10.2503 - val_accuracy: 0.0584\n",
            "Epoch 11/200\n",
            "1712/1712 [==============================] - 1s 366us/sample - loss: 150.7214 - mae: 9.6033 - accuracy: 0.3493 - val_loss: 131.3834 - val_mae: 8.7800 - val_accuracy: 0.4322\n",
            "Epoch 12/200\n",
            "1712/1712 [==============================] - 1s 387us/sample - loss: 141.0255 - mae: 9.2494 - accuracy: 0.3557 - val_loss: 184.7475 - val_mae: 10.6977 - val_accuracy: 0.3668\n",
            "Epoch 13/200\n",
            "1712/1712 [==============================] - 1s 363us/sample - loss: 133.8145 - mae: 8.9770 - accuracy: 0.3715 - val_loss: 168.3861 - val_mae: 10.3306 - val_accuracy: 0.5210\n",
            "Epoch 14/200\n",
            "1712/1712 [==============================] - 1s 361us/sample - loss: 126.7388 - mae: 8.7531 - accuracy: 0.4141 - val_loss: 146.7710 - val_mae: 9.3574 - val_accuracy: 0.2827\n",
            "Epoch 15/200\n",
            "1712/1712 [==============================] - 1s 368us/sample - loss: 109.4492 - mae: 8.0364 - accuracy: 0.4445 - val_loss: 134.4719 - val_mae: 9.0069 - val_accuracy: 0.2266\n",
            "Epoch 16/200\n",
            "1712/1712 [==============================] - 1s 375us/sample - loss: 126.9317 - mae: 8.6190 - accuracy: 0.4130 - val_loss: 206.6439 - val_mae: 11.2237 - val_accuracy: 0.6355\n",
            "Epoch 17/200\n",
            "1712/1712 [==============================] - 1s 362us/sample - loss: 188.4070 - mae: 10.5312 - accuracy: 0.3178 - val_loss: 156.9635 - val_mae: 9.8444 - val_accuracy: 0.3037\n",
            "Epoch 18/200\n",
            "1712/1712 [==============================] - 1s 356us/sample - loss: 119.4006 - mae: 8.3937 - accuracy: 0.4305 - val_loss: 105.7649 - val_mae: 7.7367 - val_accuracy: 0.5444\n",
            "Epoch 19/200\n",
            "1712/1712 [==============================] - 1s 359us/sample - loss: 120.9606 - mae: 8.4841 - accuracy: 0.4679 - val_loss: 124.2350 - val_mae: 8.5778 - val_accuracy: 0.4486\n",
            "Epoch 20/200\n",
            "1712/1712 [==============================] - 1s 372us/sample - loss: 119.6320 - mae: 8.4720 - accuracy: 0.4194 - val_loss: 133.7155 - val_mae: 8.8133 - val_accuracy: 0.6729\n",
            "Epoch 21/200\n",
            "1712/1712 [==============================] - 1s 357us/sample - loss: 103.6903 - mae: 7.7557 - accuracy: 0.4936 - val_loss: 110.1134 - val_mae: 8.0593 - val_accuracy: 0.3201\n",
            "Epoch 22/200\n",
            "1712/1712 [==============================] - 1s 378us/sample - loss: 104.3861 - mae: 7.8135 - accuracy: 0.4609 - val_loss: 104.2149 - val_mae: 7.7114 - val_accuracy: 0.6192\n",
            "Epoch 23/200\n",
            "1712/1712 [==============================] - 1s 372us/sample - loss: 94.9039 - mae: 7.4430 - accuracy: 0.4831 - val_loss: 128.0834 - val_mae: 8.8833 - val_accuracy: 0.2243\n",
            "Epoch 24/200\n",
            "1712/1712 [==============================] - 1s 371us/sample - loss: 104.4646 - mae: 7.8169 - accuracy: 0.4468 - val_loss: 128.1795 - val_mae: 8.8029 - val_accuracy: 0.5070\n",
            "Epoch 25/200\n",
            "1712/1712 [==============================] - 1s 359us/sample - loss: 104.7013 - mae: 7.8966 - accuracy: 0.4428 - val_loss: 105.5080 - val_mae: 7.7502 - val_accuracy: 0.6449\n",
            "Epoch 26/200\n",
            "1712/1712 [==============================] - 1s 358us/sample - loss: 95.7646 - mae: 7.4513 - accuracy: 0.4801 - val_loss: 103.7466 - val_mae: 7.6869 - val_accuracy: 0.5818\n",
            "Epoch 27/200\n",
            "1712/1712 [==============================] - 1s 376us/sample - loss: 102.4467 - mae: 7.7477 - accuracy: 0.4282 - val_loss: 97.7159 - val_mae: 7.3989 - val_accuracy: 0.5724\n",
            "Epoch 28/200\n",
            "1712/1712 [==============================] - 1s 382us/sample - loss: 85.7029 - mae: 7.0574 - accuracy: 0.4883 - val_loss: 115.5925 - val_mae: 8.1742 - val_accuracy: 0.6565\n",
            "Epoch 29/200\n",
            "1712/1712 [==============================] - 1s 375us/sample - loss: 118.0688 - mae: 8.3416 - accuracy: 0.4130 - val_loss: 101.7780 - val_mae: 7.6523 - val_accuracy: 0.3575\n",
            "Epoch 30/200\n",
            "1712/1712 [==============================] - 1s 378us/sample - loss: 87.7217 - mae: 7.1706 - accuracy: 0.4673 - val_loss: 104.9956 - val_mae: 7.6856 - val_accuracy: 0.6472\n",
            "Epoch 31/200\n",
            "1712/1712 [==============================] - 1s 373us/sample - loss: 79.7117 - mae: 6.7894 - accuracy: 0.4942 - val_loss: 109.0978 - val_mae: 7.8211 - val_accuracy: 0.6729\n",
            "Epoch 32/200\n",
            "1712/1712 [==============================] - 1s 376us/sample - loss: 112.5555 - mae: 7.9826 - accuracy: 0.4492 - val_loss: 118.1374 - val_mae: 8.1645 - val_accuracy: 0.2593\n",
            "Epoch 33/200\n",
            "1712/1712 [==============================] - 1s 391us/sample - loss: 92.6282 - mae: 7.3684 - accuracy: 0.4504 - val_loss: 150.5875 - val_mae: 9.5472 - val_accuracy: 0.5070\n",
            "Epoch 34/200\n",
            "1712/1712 [==============================] - 1s 390us/sample - loss: 102.5940 - mae: 7.7482 - accuracy: 0.4328 - val_loss: 104.0319 - val_mae: 7.7820 - val_accuracy: 0.2967\n",
            "Epoch 35/200\n",
            "1712/1712 [==============================] - 1s 380us/sample - loss: 103.7292 - mae: 7.8639 - accuracy: 0.3890 - val_loss: 116.0357 - val_mae: 8.2667 - val_accuracy: 0.3014\n",
            "Epoch 36/200\n",
            "1712/1712 [==============================] - 1s 382us/sample - loss: 91.5721 - mae: 7.3137 - accuracy: 0.4579 - val_loss: 113.8275 - val_mae: 8.0095 - val_accuracy: 0.3411\n",
            "Epoch 37/200\n",
            "1712/1712 [==============================] - 1s 372us/sample - loss: 76.6324 - mae: 6.6478 - accuracy: 0.4988 - val_loss: 106.9395 - val_mae: 7.7546 - val_accuracy: 0.3668\n",
            "Epoch 38/200\n",
            "1712/1712 [==============================] - 1s 385us/sample - loss: 77.8032 - mae: 6.7439 - accuracy: 0.4614 - val_loss: 185.0684 - val_mae: 11.0304 - val_accuracy: 0.0491\n",
            "Epoch 39/200\n",
            "1712/1712 [==============================] - 1s 377us/sample - loss: 88.4114 - mae: 7.1865 - accuracy: 0.4375 - val_loss: 109.7947 - val_mae: 8.0146 - val_accuracy: 0.2360\n",
            "Epoch 40/200\n",
            "1712/1712 [==============================] - 1s 373us/sample - loss: 94.0781 - mae: 7.4458 - accuracy: 0.4790 - val_loss: 103.7687 - val_mae: 7.8361 - val_accuracy: 0.5093\n",
            "Epoch 41/200\n",
            "1712/1712 [==============================] - 1s 384us/sample - loss: 73.7390 - mae: 6.5583 - accuracy: 0.5029 - val_loss: 208.1788 - val_mae: 11.6266 - val_accuracy: 0.2500\n",
            "Epoch 42/200\n",
            "1712/1712 [==============================] - 1s 371us/sample - loss: 82.7338 - mae: 6.9408 - accuracy: 0.4947 - val_loss: 99.5554 - val_mae: 7.5876 - val_accuracy: 0.5584\n",
            "Epoch 43/200\n",
            "1712/1712 [==============================] - 1s 370us/sample - loss: 70.4065 - mae: 6.3350 - accuracy: 0.5380 - val_loss: 145.6500 - val_mae: 9.4128 - val_accuracy: 0.7079\n",
            "Epoch 44/200\n",
            "1712/1712 [==============================] - 1s 364us/sample - loss: 72.4306 - mae: 6.4930 - accuracy: 0.5234 - val_loss: 120.7872 - val_mae: 8.2933 - val_accuracy: 0.6402\n",
            "Epoch 45/200\n",
            "1712/1712 [==============================] - 1s 384us/sample - loss: 76.0806 - mae: 6.6377 - accuracy: 0.5356 - val_loss: 119.2366 - val_mae: 8.2916 - val_accuracy: 0.1472\n",
            "Epoch 46/200\n",
            "1712/1712 [==============================] - 1s 378us/sample - loss: 96.4941 - mae: 7.4453 - accuracy: 0.4749 - val_loss: 98.5205 - val_mae: 7.5154 - val_accuracy: 0.5678\n",
            "Epoch 47/200\n",
            "1712/1712 [==============================] - 1s 367us/sample - loss: 72.4139 - mae: 6.4765 - accuracy: 0.5496 - val_loss: 155.6603 - val_mae: 9.5721 - val_accuracy: 0.7056\n",
            "Epoch 48/200\n",
            "1712/1712 [==============================] - 1s 383us/sample - loss: 89.0464 - mae: 7.2471 - accuracy: 0.4866 - val_loss: 93.9506 - val_mae: 7.2768 - val_accuracy: 0.2850\n",
            "Epoch 49/200\n",
            "1712/1712 [==============================] - 1s 369us/sample - loss: 93.4811 - mae: 7.3898 - accuracy: 0.5018 - val_loss: 149.2102 - val_mae: 9.0286 - val_accuracy: 0.2664\n",
            "Epoch 50/200\n",
            "1712/1712 [==============================] - 1s 374us/sample - loss: 84.3979 - mae: 7.0376 - accuracy: 0.4953 - val_loss: 201.9011 - val_mae: 11.2780 - val_accuracy: 0.2593\n",
            "Epoch 51/200\n",
            "1712/1712 [==============================] - 1s 378us/sample - loss: 80.7486 - mae: 6.8618 - accuracy: 0.5064 - val_loss: 96.2524 - val_mae: 7.4117 - val_accuracy: 0.3995\n",
            "Epoch 52/200\n",
            "1712/1712 [==============================] - 1s 386us/sample - loss: 75.2573 - mae: 6.6449 - accuracy: 0.4907 - val_loss: 95.2825 - val_mae: 7.3030 - val_accuracy: 0.2991\n",
            "Epoch 53/200\n",
            "1712/1712 [==============================] - 1s 384us/sample - loss: 66.3418 - mae: 6.2019 - accuracy: 0.5654 - val_loss: 115.4322 - val_mae: 8.1517 - val_accuracy: 0.3949\n",
            "Epoch 54/200\n",
            "1712/1712 [==============================] - 1s 387us/sample - loss: 68.7899 - mae: 6.3148 - accuracy: 0.5187 - val_loss: 84.2838 - val_mae: 6.7538 - val_accuracy: 0.5631\n",
            "Epoch 55/200\n",
            "1712/1712 [==============================] - 1s 376us/sample - loss: 62.2910 - mae: 5.9495 - accuracy: 0.5625 - val_loss: 186.5544 - val_mae: 10.8345 - val_accuracy: 0.4252\n",
            "Epoch 56/200\n",
            "1712/1712 [==============================] - 1s 384us/sample - loss: 58.3237 - mae: 5.7367 - accuracy: 0.6221 - val_loss: 127.1659 - val_mae: 8.8432 - val_accuracy: 0.3364\n",
            "Epoch 57/200\n",
            "1712/1712 [==============================] - 1s 375us/sample - loss: 120.1291 - mae: 8.3721 - accuracy: 0.4229 - val_loss: 118.5936 - val_mae: 8.0725 - val_accuracy: 0.2430\n",
            "Epoch 58/200\n",
            "1712/1712 [==============================] - 1s 386us/sample - loss: 60.1594 - mae: 5.8486 - accuracy: 0.5543 - val_loss: 215.6996 - val_mae: 12.0119 - val_accuracy: 0.2617\n",
            "Epoch 59/200\n",
            "1712/1712 [==============================] - 1s 388us/sample - loss: 74.0987 - mae: 6.5659 - accuracy: 0.5140 - val_loss: 152.7813 - val_mae: 9.1654 - val_accuracy: 0.2617\n",
            "Epoch 60/200\n",
            "1712/1712 [==============================] - 1s 389us/sample - loss: 80.0355 - mae: 6.8495 - accuracy: 0.5076 - val_loss: 91.5888 - val_mae: 7.2801 - val_accuracy: 0.5117\n",
            "Epoch 61/200\n",
            "1712/1712 [==============================] - 1s 391us/sample - loss: 62.6832 - mae: 5.9987 - accuracy: 0.5549 - val_loss: 85.1607 - val_mae: 6.7437 - val_accuracy: 0.6589\n",
            "Epoch 62/200\n",
            "1712/1712 [==============================] - 1s 372us/sample - loss: 61.7403 - mae: 5.9920 - accuracy: 0.5543 - val_loss: 89.7233 - val_mae: 7.0552 - val_accuracy: 0.5491\n",
            "Epoch 63/200\n",
            "1712/1712 [==============================] - 1s 378us/sample - loss: 65.2653 - mae: 6.1064 - accuracy: 0.5637 - val_loss: 119.7011 - val_mae: 8.3355 - val_accuracy: 0.7103\n",
            "Epoch 64/200\n",
            "1712/1712 [==============================] - 1s 357us/sample - loss: 74.8494 - mae: 6.6570 - accuracy: 0.5391 - val_loss: 87.2814 - val_mae: 6.9243 - val_accuracy: 0.6776\n",
            "Epoch 65/200\n",
            "1712/1712 [==============================] - 1s 358us/sample - loss: 72.3998 - mae: 6.5002 - accuracy: 0.5263 - val_loss: 102.2977 - val_mae: 7.7204 - val_accuracy: 0.6402\n",
            "Epoch 66/200\n",
            "1712/1712 [==============================] - 1s 371us/sample - loss: 83.6118 - mae: 7.0787 - accuracy: 0.5461 - val_loss: 110.9983 - val_mae: 8.1544 - val_accuracy: 0.6519\n",
            "Epoch 67/200\n",
            "1712/1712 [==============================] - 1s 369us/sample - loss: 60.2863 - mae: 5.9220 - accuracy: 0.5911 - val_loss: 82.0260 - val_mae: 6.5699 - val_accuracy: 0.4743\n",
            "Epoch 68/200\n",
            "1712/1712 [==============================] - 1s 371us/sample - loss: 74.8691 - mae: 6.6046 - accuracy: 0.5479 - val_loss: 111.2719 - val_mae: 7.9948 - val_accuracy: 0.6238\n",
            "Epoch 69/200\n",
            "1712/1712 [==============================] - 1s 369us/sample - loss: 81.0767 - mae: 6.9400 - accuracy: 0.5146 - val_loss: 90.9375 - val_mae: 7.1159 - val_accuracy: 0.2196\n",
            "Epoch 70/200\n",
            "1712/1712 [==============================] - 1s 364us/sample - loss: 52.0898 - mae: 5.4430 - accuracy: 0.6110 - val_loss: 94.3815 - val_mae: 7.3690 - val_accuracy: 0.6869\n",
            "Epoch 71/200\n",
            "1712/1712 [==============================] - 1s 371us/sample - loss: 54.6212 - mae: 5.6259 - accuracy: 0.5643 - val_loss: 123.1619 - val_mae: 8.0854 - val_accuracy: 0.3341\n",
            "Epoch 72/200\n",
            "1712/1712 [==============================] - 1s 375us/sample - loss: 53.3068 - mae: 5.5441 - accuracy: 0.5456 - val_loss: 149.3010 - val_mae: 9.8327 - val_accuracy: 0.0748\n",
            "Epoch 73/200\n",
            "1712/1712 [==============================] - 1s 369us/sample - loss: 77.3426 - mae: 6.7972 - accuracy: 0.4901 - val_loss: 83.4336 - val_mae: 6.7162 - val_accuracy: 0.3692\n",
            "Epoch 74/200\n",
            "1712/1712 [==============================] - 1s 373us/sample - loss: 59.2166 - mae: 5.8486 - accuracy: 0.5905 - val_loss: 105.2038 - val_mae: 7.8454 - val_accuracy: 0.6051\n",
            "Epoch 75/200\n",
            "1712/1712 [==============================] - 1s 371us/sample - loss: 56.4190 - mae: 5.7393 - accuracy: 0.6168 - val_loss: 81.3661 - val_mae: 6.5521 - val_accuracy: 0.6612\n",
            "Epoch 76/200\n",
            "1712/1712 [==============================] - 1s 368us/sample - loss: 91.9719 - mae: 7.4151 - accuracy: 0.5228 - val_loss: 129.0847 - val_mae: 8.5249 - val_accuracy: 0.7009\n",
            "Epoch 77/200\n",
            "1712/1712 [==============================] - 1s 377us/sample - loss: 59.6451 - mae: 5.8109 - accuracy: 0.6110 - val_loss: 82.2313 - val_mae: 6.6105 - val_accuracy: 0.6612\n",
            "Epoch 78/200\n",
            "1712/1712 [==============================] - 1s 375us/sample - loss: 73.5120 - mae: 6.6398 - accuracy: 0.5175 - val_loss: 117.2392 - val_mae: 8.2643 - val_accuracy: 0.6986\n",
            "Epoch 79/200\n",
            "1712/1712 [==============================] - 1s 365us/sample - loss: 62.9450 - mae: 6.0284 - accuracy: 0.5718 - val_loss: 90.9353 - val_mae: 6.8662 - val_accuracy: 0.6542\n",
            "Epoch 80/200\n",
            "1712/1712 [==============================] - 1s 376us/sample - loss: 49.4137 - mae: 5.3017 - accuracy: 0.5987 - val_loss: 92.3662 - val_mae: 7.2591 - val_accuracy: 0.6402\n",
            "Epoch 81/200\n",
            "1712/1712 [==============================] - 1s 363us/sample - loss: 53.6411 - mae: 5.5206 - accuracy: 0.5882 - val_loss: 78.6754 - val_mae: 6.4581 - val_accuracy: 0.6262\n",
            "Epoch 82/200\n",
            "1712/1712 [==============================] - 1s 371us/sample - loss: 60.1035 - mae: 5.8263 - accuracy: 0.6110 - val_loss: 97.9258 - val_mae: 7.2585 - val_accuracy: 0.2991\n",
            "Epoch 83/200\n",
            "1712/1712 [==============================] - 1s 371us/sample - loss: 53.9015 - mae: 5.5434 - accuracy: 0.6186 - val_loss: 89.6413 - val_mae: 7.0944 - val_accuracy: 0.6776\n",
            "Epoch 84/200\n",
            "1712/1712 [==============================] - 1s 367us/sample - loss: 53.1311 - mae: 5.4953 - accuracy: 0.6162 - val_loss: 141.2048 - val_mae: 8.6466 - val_accuracy: 0.7009\n",
            "Epoch 85/200\n",
            "1712/1712 [==============================] - 1s 385us/sample - loss: 58.9776 - mae: 5.7751 - accuracy: 0.6116 - val_loss: 93.8301 - val_mae: 7.0971 - val_accuracy: 0.6986\n",
            "Epoch 86/200\n",
            "1712/1712 [==============================] - 1s 376us/sample - loss: 48.0472 - mae: 5.1646 - accuracy: 0.6402 - val_loss: 106.5225 - val_mae: 8.0266 - val_accuracy: 0.6355\n",
            "Epoch 87/200\n",
            "1712/1712 [==============================] - 1s 365us/sample - loss: 66.5855 - mae: 6.2310 - accuracy: 0.5625 - val_loss: 146.3290 - val_mae: 9.3109 - val_accuracy: 0.3715\n",
            "Epoch 88/200\n",
            "1712/1712 [==============================] - 1s 370us/sample - loss: 67.9453 - mae: 6.3116 - accuracy: 0.5572 - val_loss: 81.5520 - val_mae: 6.7050 - val_accuracy: 0.4509\n",
            "Epoch 89/200\n",
            "1712/1712 [==============================] - 1s 371us/sample - loss: 45.7822 - mae: 5.0992 - accuracy: 0.6092 - val_loss: 73.9181 - val_mae: 6.2663 - val_accuracy: 0.6121\n",
            "Epoch 90/200\n",
            "1712/1712 [==============================] - 1s 372us/sample - loss: 50.4491 - mae: 5.3839 - accuracy: 0.5689 - val_loss: 80.7422 - val_mae: 6.4920 - val_accuracy: 0.5678\n",
            "Epoch 91/200\n",
            "1712/1712 [==============================] - 1s 368us/sample - loss: 49.7118 - mae: 5.3565 - accuracy: 0.5736 - val_loss: 88.4011 - val_mae: 6.8307 - val_accuracy: 0.4650\n",
            "Epoch 92/200\n",
            "1712/1712 [==============================] - 1s 367us/sample - loss: 43.5370 - mae: 4.9923 - accuracy: 0.6641 - val_loss: 74.8096 - val_mae: 6.2619 - val_accuracy: 0.6682\n",
            "Epoch 93/200\n",
            "1712/1712 [==============================] - 1s 369us/sample - loss: 43.0457 - mae: 4.9223 - accuracy: 0.6513 - val_loss: 79.6904 - val_mae: 6.4700 - val_accuracy: 0.6542\n",
            "Epoch 94/200\n",
            "1712/1712 [==============================] - 1s 381us/sample - loss: 47.6404 - mae: 5.2063 - accuracy: 0.6758 - val_loss: 80.8694 - val_mae: 6.6125 - val_accuracy: 0.6285\n",
            "Epoch 95/200\n",
            "1712/1712 [==============================] - 1s 365us/sample - loss: 65.8754 - mae: 6.1572 - accuracy: 0.5648 - val_loss: 91.6150 - val_mae: 7.1997 - val_accuracy: 0.7079\n",
            "Epoch 96/200\n",
            "1712/1712 [==============================] - 1s 365us/sample - loss: 53.2459 - mae: 5.5306 - accuracy: 0.5794 - val_loss: 93.3348 - val_mae: 7.0895 - val_accuracy: 0.3808\n",
            "Epoch 97/200\n",
            "1712/1712 [==============================] - 1s 350us/sample - loss: 51.1962 - mae: 5.4899 - accuracy: 0.5713 - val_loss: 129.6569 - val_mae: 8.3514 - val_accuracy: 0.7056\n",
            "Epoch 98/200\n",
            "1712/1712 [==============================] - 1s 365us/sample - loss: 53.4846 - mae: 5.6277 - accuracy: 0.6028 - val_loss: 103.4884 - val_mae: 7.5632 - val_accuracy: 0.5117\n",
            "Epoch 99/200\n",
            "1712/1712 [==============================] - 1s 359us/sample - loss: 44.9074 - mae: 5.0988 - accuracy: 0.5660 - val_loss: 81.2617 - val_mae: 6.7501 - val_accuracy: 0.4790\n",
            "Epoch 100/200\n",
            "1712/1712 [==============================] - 1s 374us/sample - loss: 39.3668 - mae: 4.7199 - accuracy: 0.6647 - val_loss: 81.1757 - val_mae: 6.6736 - val_accuracy: 0.3084\n",
            "Epoch 101/200\n",
            "1712/1712 [==============================] - 1s 372us/sample - loss: 51.0761 - mae: 5.3948 - accuracy: 0.6291 - val_loss: 72.4371 - val_mae: 6.1634 - val_accuracy: 0.6986\n",
            "Epoch 102/200\n",
            "1712/1712 [==============================] - 1s 367us/sample - loss: 42.2921 - mae: 4.9025 - accuracy: 0.6700 - val_loss: 78.7627 - val_mae: 6.3373 - val_accuracy: 0.6799\n",
            "Epoch 103/200\n",
            "1712/1712 [==============================] - 1s 374us/sample - loss: 39.9095 - mae: 4.7326 - accuracy: 0.6618 - val_loss: 80.1505 - val_mae: 6.6062 - val_accuracy: 0.4229\n",
            "Epoch 104/200\n",
            "1712/1712 [==============================] - 1s 356us/sample - loss: 41.6058 - mae: 4.8223 - accuracy: 0.6659 - val_loss: 76.7515 - val_mae: 6.4713 - val_accuracy: 0.6752\n",
            "Epoch 105/200\n",
            "1712/1712 [==============================] - 1s 364us/sample - loss: 43.3730 - mae: 4.9575 - accuracy: 0.6560 - val_loss: 78.8990 - val_mae: 6.5061 - val_accuracy: 0.3972\n",
            "Epoch 106/200\n",
            "1712/1712 [==============================] - 1s 364us/sample - loss: 49.9951 - mae: 5.3132 - accuracy: 0.6776 - val_loss: 94.4897 - val_mae: 7.2380 - val_accuracy: 0.6075\n",
            "Epoch 107/200\n",
            "1712/1712 [==============================] - 1s 366us/sample - loss: 57.3043 - mae: 5.7143 - accuracy: 0.6273 - val_loss: 143.9330 - val_mae: 9.5162 - val_accuracy: 0.6893\n",
            "Epoch 108/200\n",
            "1712/1712 [==============================] - 1s 362us/sample - loss: 68.3459 - mae: 6.3343 - accuracy: 0.5637 - val_loss: 102.8335 - val_mae: 7.4987 - val_accuracy: 0.7079\n",
            "Epoch 109/200\n",
            "1712/1712 [==============================] - 1s 378us/sample - loss: 59.3079 - mae: 5.8899 - accuracy: 0.5572 - val_loss: 96.3288 - val_mae: 7.1812 - val_accuracy: 0.7056\n",
            "Epoch 110/200\n",
            "1712/1712 [==============================] - 1s 381us/sample - loss: 40.9891 - mae: 4.8155 - accuracy: 0.6069 - val_loss: 82.5005 - val_mae: 6.8346 - val_accuracy: 0.7173\n",
            "Epoch 111/200\n",
            "1712/1712 [==============================] - 1s 368us/sample - loss: 42.0122 - mae: 4.9275 - accuracy: 0.6484 - val_loss: 71.0473 - val_mae: 6.1070 - val_accuracy: 0.5935\n",
            "Epoch 112/200\n",
            "1712/1712 [==============================] - 1s 362us/sample - loss: 37.1057 - mae: 4.5867 - accuracy: 0.6846 - val_loss: 105.2345 - val_mae: 7.7860 - val_accuracy: 0.5491\n",
            "Epoch 113/200\n",
            "1712/1712 [==============================] - 1s 375us/sample - loss: 52.7044 - mae: 5.5708 - accuracy: 0.6600 - val_loss: 95.9065 - val_mae: 7.5307 - val_accuracy: 0.6121\n",
            "Epoch 114/200\n",
            "1712/1712 [==============================] - 1s 375us/sample - loss: 49.0975 - mae: 5.4037 - accuracy: 0.6057 - val_loss: 96.8440 - val_mae: 7.4721 - val_accuracy: 0.7009\n",
            "Epoch 115/200\n",
            "1712/1712 [==============================] - 1s 378us/sample - loss: 35.7614 - mae: 4.4410 - accuracy: 0.6787 - val_loss: 76.7474 - val_mae: 6.2693 - val_accuracy: 0.6659\n",
            "Epoch 116/200\n",
            "1712/1712 [==============================] - 1s 362us/sample - loss: 46.5736 - mae: 5.0431 - accuracy: 0.6595 - val_loss: 92.1934 - val_mae: 6.9643 - val_accuracy: 0.7150\n",
            "Epoch 117/200\n",
            "1712/1712 [==============================] - 1s 364us/sample - loss: 54.0163 - mae: 5.5537 - accuracy: 0.5707 - val_loss: 77.2170 - val_mae: 6.4236 - val_accuracy: 0.6963\n",
            "Epoch 118/200\n",
            "1712/1712 [==============================] - 1s 360us/sample - loss: 36.1592 - mae: 4.5133 - accuracy: 0.6548 - val_loss: 85.2809 - val_mae: 6.9741 - val_accuracy: 0.6916\n",
            "Epoch 119/200\n",
            "1712/1712 [==============================] - 1s 356us/sample - loss: 36.4218 - mae: 4.5284 - accuracy: 0.6846 - val_loss: 80.4736 - val_mae: 6.6699 - val_accuracy: 0.6822\n",
            "Epoch 120/200\n",
            "1712/1712 [==============================] - 1s 362us/sample - loss: 44.3636 - mae: 5.0743 - accuracy: 0.6425 - val_loss: 81.2661 - val_mae: 6.7219 - val_accuracy: 0.1822\n",
            "Epoch 121/200\n",
            "1712/1712 [==============================] - 1s 367us/sample - loss: 43.8822 - mae: 5.0053 - accuracy: 0.6011 - val_loss: 101.1137 - val_mae: 7.5498 - val_accuracy: 0.5537\n",
            "Epoch 122/200\n",
            "1712/1712 [==============================] - 1s 371us/sample - loss: 46.6300 - mae: 5.2490 - accuracy: 0.6127 - val_loss: 87.2151 - val_mae: 7.0581 - val_accuracy: 0.5864\n",
            "Epoch 123/200\n",
            "1712/1712 [==============================] - 1s 362us/sample - loss: 51.8484 - mae: 5.4912 - accuracy: 0.5894 - val_loss: 94.0780 - val_mae: 7.2840 - val_accuracy: 0.6332\n",
            "Epoch 124/200\n",
            "1712/1712 [==============================] - 1s 358us/sample - loss: 41.9376 - mae: 4.8611 - accuracy: 0.6933 - val_loss: 100.0096 - val_mae: 7.1143 - val_accuracy: 0.6939\n",
            "Epoch 125/200\n",
            "1712/1712 [==============================] - 1s 370us/sample - loss: 37.4450 - mae: 4.5950 - accuracy: 0.6612 - val_loss: 75.8217 - val_mae: 6.2282 - val_accuracy: 0.7009\n",
            "Epoch 126/200\n",
            "1712/1712 [==============================] - 1s 365us/sample - loss: 41.4863 - mae: 4.8060 - accuracy: 0.6624 - val_loss: 91.3708 - val_mae: 7.1953 - val_accuracy: 0.2477\n",
            "Epoch 127/200\n",
            "1712/1712 [==============================] - 1s 385us/sample - loss: 37.8323 - mae: 4.6451 - accuracy: 0.6484 - val_loss: 77.1072 - val_mae: 6.3295 - val_accuracy: 0.6682\n",
            "Epoch 128/200\n",
            "1712/1712 [==============================] - 1s 367us/sample - loss: 38.3255 - mae: 4.6362 - accuracy: 0.6560 - val_loss: 159.6934 - val_mae: 9.5151 - val_accuracy: 0.7103\n",
            "Epoch 129/200\n",
            "1712/1712 [==============================] - 1s 373us/sample - loss: 38.7450 - mae: 4.6638 - accuracy: 0.6887 - val_loss: 86.8707 - val_mae: 6.8390 - val_accuracy: 0.7173\n",
            "Epoch 130/200\n",
            "1712/1712 [==============================] - 1s 379us/sample - loss: 36.9123 - mae: 4.4996 - accuracy: 0.7050 - val_loss: 182.9291 - val_mae: 11.1820 - val_accuracy: 0.7103\n",
            "Epoch 131/200\n",
            "1712/1712 [==============================] - 1s 365us/sample - loss: 46.6429 - mae: 5.0746 - accuracy: 0.6799 - val_loss: 79.2436 - val_mae: 6.5447 - val_accuracy: 0.7126\n",
            "Epoch 132/200\n",
            "1712/1712 [==============================] - 1s 375us/sample - loss: 35.1190 - mae: 4.4368 - accuracy: 0.6945 - val_loss: 80.6866 - val_mae: 6.5597 - val_accuracy: 0.5678\n",
            "Epoch 133/200\n",
            "1712/1712 [==============================] - 1s 366us/sample - loss: 54.4993 - mae: 5.5522 - accuracy: 0.6151 - val_loss: 79.4711 - val_mae: 6.4886 - val_accuracy: 0.5304\n",
            "Epoch 134/200\n",
            "1712/1712 [==============================] - 1s 365us/sample - loss: 36.6083 - mae: 4.5304 - accuracy: 0.7079 - val_loss: 98.6237 - val_mae: 7.0982 - val_accuracy: 0.7266\n",
            "Epoch 135/200\n",
            "1712/1712 [==============================] - 1s 369us/sample - loss: 41.8335 - mae: 4.8636 - accuracy: 0.7039 - val_loss: 94.9724 - val_mae: 7.2208 - val_accuracy: 0.5584\n",
            "Epoch 136/200\n",
            "1712/1712 [==============================] - 1s 373us/sample - loss: 45.4816 - mae: 5.1414 - accuracy: 0.6384 - val_loss: 99.8031 - val_mae: 7.2973 - val_accuracy: 0.7079\n",
            "Epoch 137/200\n",
            "1712/1712 [==============================] - 1s 359us/sample - loss: 42.4958 - mae: 4.9750 - accuracy: 0.5333 - val_loss: 88.1958 - val_mae: 6.6999 - val_accuracy: 0.7150\n",
            "Epoch 138/200\n",
            "1712/1712 [==============================] - 1s 348us/sample - loss: 72.4539 - mae: 6.4520 - accuracy: 0.4445 - val_loss: 99.8105 - val_mae: 7.4690 - val_accuracy: 0.7079\n",
            "Epoch 139/200\n",
            "1712/1712 [==============================] - 1s 379us/sample - loss: 46.6212 - mae: 5.0610 - accuracy: 0.6454 - val_loss: 82.8981 - val_mae: 6.6575 - val_accuracy: 0.7313\n",
            "Epoch 140/200\n",
            "1712/1712 [==============================] - 1s 362us/sample - loss: 44.3453 - mae: 4.9563 - accuracy: 0.7097 - val_loss: 72.5013 - val_mae: 6.2588 - val_accuracy: 0.7266\n",
            "Epoch 141/200\n",
            "1712/1712 [==============================] - 1s 359us/sample - loss: 40.9654 - mae: 4.6997 - accuracy: 0.7085 - val_loss: 69.2017 - val_mae: 6.0504 - val_accuracy: 0.7220\n",
            "Epoch 142/200\n",
            "1712/1712 [==============================] - 1s 363us/sample - loss: 46.2812 - mae: 5.0598 - accuracy: 0.7120 - val_loss: 76.6099 - val_mae: 6.3084 - val_accuracy: 0.7103\n",
            "Epoch 143/200\n",
            "1712/1712 [==============================] - 1s 355us/sample - loss: 37.6407 - mae: 4.5249 - accuracy: 0.7132 - val_loss: 70.3864 - val_mae: 6.0630 - val_accuracy: 0.7220\n",
            "Epoch 144/200\n",
            "1712/1712 [==============================] - 1s 384us/sample - loss: 38.2610 - mae: 4.5663 - accuracy: 0.7220 - val_loss: 67.0116 - val_mae: 5.9009 - val_accuracy: 0.7266\n",
            "Epoch 145/200\n",
            "1712/1712 [==============================] - 1s 363us/sample - loss: 39.0086 - mae: 4.6657 - accuracy: 0.7074 - val_loss: 100.5187 - val_mae: 7.7729 - val_accuracy: 0.6986\n",
            "Epoch 146/200\n",
            "1712/1712 [==============================] - 1s 361us/sample - loss: 45.4707 - mae: 5.0031 - accuracy: 0.7249 - val_loss: 88.4172 - val_mae: 6.8785 - val_accuracy: 0.7079\n",
            "Epoch 147/200\n",
            "1712/1712 [==============================] - 1s 364us/sample - loss: 58.3917 - mae: 5.7047 - accuracy: 0.7027 - val_loss: 137.2370 - val_mae: 9.5986 - val_accuracy: 0.7126\n",
            "Epoch 148/200\n",
            "1712/1712 [==============================] - 1s 370us/sample - loss: 42.1502 - mae: 4.8355 - accuracy: 0.6787 - val_loss: 70.9919 - val_mae: 6.0832 - val_accuracy: 0.7313\n",
            "Epoch 149/200\n",
            "1712/1712 [==============================] - 1s 356us/sample - loss: 44.5361 - mae: 4.9403 - accuracy: 0.7161 - val_loss: 86.0789 - val_mae: 6.7378 - val_accuracy: 0.7103\n",
            "Epoch 150/200\n",
            "1712/1712 [==============================] - 1s 366us/sample - loss: 54.8869 - mae: 5.6058 - accuracy: 0.6647 - val_loss: 72.1557 - val_mae: 6.2111 - val_accuracy: 0.6379\n",
            "Epoch 151/200\n",
            "1712/1712 [==============================] - 1s 366us/sample - loss: 44.1564 - mae: 4.9895 - accuracy: 0.6454 - val_loss: 100.1771 - val_mae: 7.4062 - val_accuracy: 0.5724\n",
            "Epoch 152/200\n",
            "1712/1712 [==============================] - 1s 363us/sample - loss: 37.0575 - mae: 4.5257 - accuracy: 0.6986 - val_loss: 69.1828 - val_mae: 6.0322 - val_accuracy: 0.7079\n",
            "Epoch 153/200\n",
            "1712/1712 [==============================] - 1s 367us/sample - loss: 37.1681 - mae: 4.5277 - accuracy: 0.7062 - val_loss: 68.1022 - val_mae: 5.9053 - val_accuracy: 0.7290\n",
            "Epoch 154/200\n",
            "1712/1712 [==============================] - 1s 374us/sample - loss: 42.7217 - mae: 4.8643 - accuracy: 0.6963 - val_loss: 93.6112 - val_mae: 7.1856 - val_accuracy: 0.2453\n",
            "Epoch 155/200\n",
            "1712/1712 [==============================] - 1s 367us/sample - loss: 44.1958 - mae: 4.9535 - accuracy: 0.5386 - val_loss: 69.0694 - val_mae: 6.1192 - val_accuracy: 0.7173\n",
            "Epoch 156/200\n",
            "1712/1712 [==============================] - 1s 370us/sample - loss: 43.5532 - mae: 4.9504 - accuracy: 0.6869 - val_loss: 101.5409 - val_mae: 7.7453 - val_accuracy: 0.6379\n",
            "Epoch 157/200\n",
            "1712/1712 [==============================] - 1s 370us/sample - loss: 45.2137 - mae: 5.0300 - accuracy: 0.6612 - val_loss: 70.4878 - val_mae: 6.2213 - val_accuracy: 0.7173\n",
            "Epoch 158/200\n",
            "1712/1712 [==============================] - 1s 368us/sample - loss: 35.9036 - mae: 4.4713 - accuracy: 0.7208 - val_loss: 61.9744 - val_mae: 5.6225 - val_accuracy: 0.7126\n",
            "Epoch 159/200\n",
            "1712/1712 [==============================] - 1s 368us/sample - loss: 32.6460 - mae: 4.2317 - accuracy: 0.7202 - val_loss: 64.2519 - val_mae: 5.7571 - val_accuracy: 0.7196\n",
            "Epoch 160/200\n",
            "1712/1712 [==============================] - 1s 375us/sample - loss: 33.7341 - mae: 4.3077 - accuracy: 0.7296 - val_loss: 64.1779 - val_mae: 5.7533 - val_accuracy: 0.7313\n",
            "Epoch 161/200\n",
            "1712/1712 [==============================] - 1s 355us/sample - loss: 37.5404 - mae: 4.5368 - accuracy: 0.7190 - val_loss: 65.9777 - val_mae: 5.7958 - val_accuracy: 0.7220\n",
            "Epoch 162/200\n",
            "1712/1712 [==============================] - 1s 366us/sample - loss: 34.5559 - mae: 4.3452 - accuracy: 0.7331 - val_loss: 64.3749 - val_mae: 5.8416 - val_accuracy: 0.7313\n",
            "Epoch 163/200\n",
            "1712/1712 [==============================] - 1s 375us/sample - loss: 31.0056 - mae: 4.1352 - accuracy: 0.7103 - val_loss: 66.9296 - val_mae: 5.9419 - val_accuracy: 0.7150\n",
            "Epoch 164/200\n",
            "1712/1712 [==============================] - 1s 370us/sample - loss: 37.9627 - mae: 4.6079 - accuracy: 0.7155 - val_loss: 79.0283 - val_mae: 6.6938 - val_accuracy: 0.7360\n",
            "Epoch 165/200\n",
            "1712/1712 [==============================] - 1s 367us/sample - loss: 33.7227 - mae: 4.3403 - accuracy: 0.7021 - val_loss: 64.7820 - val_mae: 5.7716 - val_accuracy: 0.7126\n",
            "Epoch 166/200\n",
            "1712/1712 [==============================] - 1s 374us/sample - loss: 28.6043 - mae: 3.9538 - accuracy: 0.7237 - val_loss: 76.3485 - val_mae: 6.5238 - val_accuracy: 0.7150\n",
            "Epoch 167/200\n",
            "1712/1712 [==============================] - 1s 366us/sample - loss: 31.2865 - mae: 4.1304 - accuracy: 0.7325 - val_loss: 67.8973 - val_mae: 5.8960 - val_accuracy: 0.7290\n",
            "Epoch 168/200\n",
            "1712/1712 [==============================] - 1s 372us/sample - loss: 29.2128 - mae: 4.0103 - accuracy: 0.7354 - val_loss: 89.1960 - val_mae: 6.8761 - val_accuracy: 0.7220\n",
            "Epoch 169/200\n",
            "1712/1712 [==============================] - 1s 366us/sample - loss: 29.8657 - mae: 4.0736 - accuracy: 0.7225 - val_loss: 64.2615 - val_mae: 5.7501 - val_accuracy: 0.7360\n",
            "Epoch 170/200\n",
            "1712/1712 [==============================] - 1s 359us/sample - loss: 40.2483 - mae: 4.7485 - accuracy: 0.7220 - val_loss: 78.2174 - val_mae: 6.4270 - val_accuracy: 0.7290\n",
            "Epoch 171/200\n",
            "1712/1712 [==============================] - 1s 363us/sample - loss: 28.7835 - mae: 3.9787 - accuracy: 0.7214 - val_loss: 66.8180 - val_mae: 5.9170 - val_accuracy: 0.6472\n",
            "Epoch 172/200\n",
            "1712/1712 [==============================] - 1s 367us/sample - loss: 40.5344 - mae: 4.7193 - accuracy: 0.7132 - val_loss: 94.7292 - val_mae: 7.1759 - val_accuracy: 0.6449\n",
            "Epoch 173/200\n",
            "1712/1712 [==============================] - 1s 372us/sample - loss: 33.8629 - mae: 4.3353 - accuracy: 0.7027 - val_loss: 74.4615 - val_mae: 6.2742 - val_accuracy: 0.7243\n",
            "Epoch 174/200\n",
            "1712/1712 [==============================] - 1s 364us/sample - loss: 43.7321 - mae: 5.0282 - accuracy: 0.6945 - val_loss: 68.1387 - val_mae: 5.9602 - val_accuracy: 0.7033\n",
            "Epoch 175/200\n",
            "1712/1712 [==============================] - 1s 371us/sample - loss: 33.2385 - mae: 4.2873 - accuracy: 0.7039 - val_loss: 67.4509 - val_mae: 6.0228 - val_accuracy: 0.7313\n",
            "Epoch 176/200\n",
            "1712/1712 [==============================] - 1s 369us/sample - loss: 38.2953 - mae: 4.6370 - accuracy: 0.5800 - val_loss: 66.5759 - val_mae: 5.9217 - val_accuracy: 0.7009\n",
            "Epoch 177/200\n",
            "1712/1712 [==============================] - 1s 364us/sample - loss: 33.8078 - mae: 4.2672 - accuracy: 0.7208 - val_loss: 71.0037 - val_mae: 6.0914 - val_accuracy: 0.6916\n",
            "Epoch 178/200\n",
            "1712/1712 [==============================] - 1s 360us/sample - loss: 34.3162 - mae: 4.3523 - accuracy: 0.7301 - val_loss: 63.3767 - val_mae: 5.7331 - val_accuracy: 0.7009\n",
            "Epoch 179/200\n",
            "1712/1712 [==============================] - 1s 354us/sample - loss: 34.6586 - mae: 4.3885 - accuracy: 0.7325 - val_loss: 66.8881 - val_mae: 6.0057 - val_accuracy: 0.6916\n",
            "Epoch 180/200\n",
            "1712/1712 [==============================] - 1s 372us/sample - loss: 27.8878 - mae: 3.8933 - accuracy: 0.7161 - val_loss: 64.0902 - val_mae: 5.7022 - val_accuracy: 0.7243\n",
            "Epoch 181/200\n",
            "1712/1712 [==============================] - 1s 386us/sample - loss: 34.0547 - mae: 4.3013 - accuracy: 0.7033 - val_loss: 72.1758 - val_mae: 6.2297 - val_accuracy: 0.7243\n",
            "Epoch 182/200\n",
            "1712/1712 [==============================] - 1s 371us/sample - loss: 30.9070 - mae: 4.1233 - accuracy: 0.7296 - val_loss: 64.7492 - val_mae: 5.7759 - val_accuracy: 0.7126\n",
            "Epoch 183/200\n",
            "1712/1712 [==============================] - 1s 371us/sample - loss: 33.2301 - mae: 4.3195 - accuracy: 0.7202 - val_loss: 112.7064 - val_mae: 8.2978 - val_accuracy: 0.6565\n",
            "Epoch 184/200\n",
            "1712/1712 [==============================] - 1s 377us/sample - loss: 34.7738 - mae: 4.3822 - accuracy: 0.7091 - val_loss: 64.0094 - val_mae: 5.7372 - val_accuracy: 0.6729\n",
            "Epoch 185/200\n",
            "1712/1712 [==============================] - 1s 363us/sample - loss: 25.8088 - mae: 3.7478 - accuracy: 0.7214 - val_loss: 69.2302 - val_mae: 5.9363 - val_accuracy: 0.7196\n",
            "Epoch 186/200\n",
            "1712/1712 [==============================] - 1s 381us/sample - loss: 35.6713 - mae: 4.4592 - accuracy: 0.7296 - val_loss: 75.3851 - val_mae: 6.4095 - val_accuracy: 0.7056\n",
            "Epoch 187/200\n",
            "1712/1712 [==============================] - 1s 362us/sample - loss: 31.6428 - mae: 4.2189 - accuracy: 0.6957 - val_loss: 67.1892 - val_mae: 5.9948 - val_accuracy: 0.7103\n",
            "Epoch 188/200\n",
            "1712/1712 [==============================] - 1s 365us/sample - loss: 32.6423 - mae: 4.2364 - accuracy: 0.7342 - val_loss: 67.3821 - val_mae: 5.8533 - val_accuracy: 0.6893\n",
            "Epoch 189/200\n",
            "1712/1712 [==============================] - 1s 363us/sample - loss: 28.2628 - mae: 3.9465 - accuracy: 0.7231 - val_loss: 63.1989 - val_mae: 5.6259 - val_accuracy: 0.6682\n",
            "Epoch 190/200\n",
            "1712/1712 [==============================] - 1s 366us/sample - loss: 31.2051 - mae: 4.1247 - accuracy: 0.7255 - val_loss: 92.6959 - val_mae: 7.1804 - val_accuracy: 0.6402\n",
            "Epoch 191/200\n",
            "1712/1712 [==============================] - 1s 367us/sample - loss: 26.7111 - mae: 3.8509 - accuracy: 0.7220 - val_loss: 82.9191 - val_mae: 6.5647 - val_accuracy: 0.7290\n",
            "Epoch 192/200\n",
            "1712/1712 [==============================] - 1s 353us/sample - loss: 27.0667 - mae: 3.8639 - accuracy: 0.7261 - val_loss: 76.8937 - val_mae: 6.2571 - val_accuracy: 0.7150\n",
            "Epoch 193/200\n",
            "1712/1712 [==============================] - 1s 372us/sample - loss: 24.0960 - mae: 3.6446 - accuracy: 0.7091 - val_loss: 64.1235 - val_mae: 5.7026 - val_accuracy: 0.7150\n",
            "Epoch 194/200\n",
            "1712/1712 [==============================] - 1s 363us/sample - loss: 27.8888 - mae: 3.9446 - accuracy: 0.7173 - val_loss: 68.5477 - val_mae: 5.9702 - val_accuracy: 0.6869\n",
            "Epoch 195/200\n",
            "1712/1712 [==============================] - 1s 358us/sample - loss: 28.5451 - mae: 3.9742 - accuracy: 0.6676 - val_loss: 68.8105 - val_mae: 5.9508 - val_accuracy: 0.7056\n",
            "Epoch 196/200\n",
            "1712/1712 [==============================] - 1s 364us/sample - loss: 41.0582 - mae: 4.7900 - accuracy: 0.6910 - val_loss: 108.5147 - val_mae: 7.9635 - val_accuracy: 0.4206\n",
            "Epoch 197/200\n",
            "1712/1712 [==============================] - 1s 366us/sample - loss: 35.2243 - mae: 4.4620 - accuracy: 0.6133 - val_loss: 79.9928 - val_mae: 6.6947 - val_accuracy: 0.5771\n",
            "Epoch 198/200\n",
            "1712/1712 [==============================] - 1s 365us/sample - loss: 39.3537 - mae: 4.7223 - accuracy: 0.6898 - val_loss: 72.4747 - val_mae: 6.2918 - val_accuracy: 0.5958\n",
            "Epoch 199/200\n",
            "1712/1712 [==============================] - 1s 363us/sample - loss: 26.3717 - mae: 3.8212 - accuracy: 0.6793 - val_loss: 64.8376 - val_mae: 5.7896 - val_accuracy: 0.7009\n",
            "Epoch 200/200\n",
            "1712/1712 [==============================] - 1s 357us/sample - loss: 45.3585 - mae: 5.0325 - accuracy: 0.6852 - val_loss: 71.3857 - val_mae: 6.0607 - val_accuracy: 0.7033\n"
          ],
          "name": "stdout"
        }
      ]
    },
    {
      "cell_type": "markdown",
      "metadata": {
        "id": "4l_D44Jhte7t",
        "colab_type": "text"
      },
      "source": [
        "# Результат"
      ]
    },
    {
      "cell_type": "code",
      "metadata": {
        "id": "nAJ_gbsutWo5",
        "colab_type": "code",
        "outputId": "394310b2-cbf5-4f3f-d002-b62ab6f8b6ef",
        "colab": {
          "base_uri": "https://localhost:8080/",
          "height": 295
        }
      },
      "source": [
        "plt.plot(history.history['loss'][1:], label='train')\n",
        "plt.plot(history.history['val_loss'][1:], label='test')\n",
        "plt.title('model loss')\n",
        "plt.ylabel('loss')\n",
        "plt.xlabel('epoch')\n",
        "plt.legend()\n",
        "plt.show()"
      ],
      "execution_count": 0,
      "outputs": [
        {
          "output_type": "display_data",
          "data": {
            "image/png": "[encoded data removed]",
            "text/plain": [
              "<Figure size 432x288 with 1 Axes>"
            ]
          },
          "metadata": {
            "tags": []
          }
        }
      ]
    },
    {
      "cell_type": "code",
      "metadata": {
        "id": "6OS1G-rxQSnf",
        "colab_type": "code",
        "outputId": "571d61ac-bad8-406a-e98a-bf4fc59d8586",
        "colab": {
          "base_uri": "https://localhost:8080/",
          "height": 268
        }
      },
      "source": [
        "X_test = X_test.reshape(-1, 96, 96, 1)\n",
        "Y_test = model.predict(X_test)\n",
        "\n",
        "plot_image(X_test[4].reshape(96, 96), Y_test[4])"
      ],
      "execution_count": 0,
      "outputs": [
        {
          "output_type": "display_data",
          "data": {
            "image/png": "[encoded data removed]",
            "text/plain": [
              "<Figure size 432x288 with 1 Axes>"
            ]
          },
          "metadata": {
            "tags": []
          }
        }
      ]
    }
  ]
}